{
  "nbformat": 4,
  "nbformat_minor": 0,
  "metadata": {
    "colab": {
      "name": "TubesSKO.ipynb",
      "provenance": [],
      "authorship_tag": "ABX9TyMDWFJAIL0U7Ih46gSyeCbZ",
      "include_colab_link": true
    },
    "kernelspec": {
      "name": "python3",
      "display_name": "Python 3"
    }
  },
  "cells": [
    {
      "cell_type": "markdown",
      "metadata": {
        "id": "view-in-github",
        "colab_type": "text"
      },
      "source": [
        "<a href=\"https://colab.research.google.com/github/ghozialbizia/FinalAssignmentSKO/blob/main/TubesFIX.ipynb\" target=\"_parent\"><img src=\"https://colab.research.google.com/assets/colab-badge.svg\" alt=\"Open In Colab\"/></a>"
      ]
    },
    {
      "cell_type": "code",
      "metadata": {
        "id": "3bJ0WgqrRc9n"
      },
      "source": [
        "from math import log10, sqrt\r\n",
        "import numpy as np\r\n",
        "import matplotlib.pyplot as plt"
      ],
      "execution_count": 1,
      "outputs": []
    },
    {
      "cell_type": "code",
      "metadata": {
        "id": "5cYH_uGYRnpT"
      },
      "source": [
        "L = 11 #km\r\n",
        "Hspl = 2 #km\r\n",
        "disp_M = 20e-12 #s/km.nm\r\n",
        "alpha_f = 0.185 #dB/km"
      ],
      "execution_count": 2,
      "outputs": []
    },
    {
      "cell_type": "code",
      "metadata": {
        "id": "IvGT_Gd8RoAR"
      },
      "source": [
        "Ptx = 5 #mw\r\n",
        "Ptx_db = 10*log10(Ptx) #Ptx\r\n",
        "spektral = 0.1 #nm\r\n",
        "t_tx = 50e-12 #s\r\n",
        "Mod_NRZ = 0.7 #NRZ\r\n",
        "Mod_RZ = 0.35 #RZ\r\n",
        "Br = 1e9 # 2.5 Gbps\r\n",
        "Tb = 1/Br"
      ],
      "execution_count": 3,
      "outputs": []
    },
    {
      "cell_type": "code",
      "metadata": {
        "id": "fAzOtesXRo24"
      },
      "source": [
        "Sensitivity = -27 #dBm\r\n",
        "t_rx = 35e-12 #s"
      ],
      "execution_count": 4,
      "outputs": []
    },
    {
      "cell_type": "code",
      "metadata": {
        "id": "YIJ6HNVARpp2"
      },
      "source": [
        "N_c = 2 #number of connectors\r\n",
        "alpha_c = 0.1 #dB\r\n",
        "N_sp = (L/Hspl)-1\r\n",
        "alpha_sp = 0.1 #dB\r\n",
        "Ms = 2"
      ],
      "execution_count": 5,
      "outputs": []
    },
    {
      "cell_type": "markdown",
      "metadata": {
        "id": "UBCdrQXfR1Iu"
      },
      "source": [
        "# Link Power Budget"
      ]
    },
    {
      "cell_type": "code",
      "metadata": {
        "colab": {
          "base_uri": "https://localhost:8080/"
        },
        "id": "3wAMBcElSDxc",
        "outputId": "561a2082-4f9f-4b34-92b0-2d6740dd5086"
      },
      "source": [
        "alpha_t =N_c*alpha_c+N_sp*alpha_sp+L*alpha_f+Ms\r\n",
        "print(\"The Cable Attenuation is\", alpha_t,\"dB\")"
      ],
      "execution_count": 6,
      "outputs": [
        {
          "output_type": "stream",
          "text": [
            "The Cable Attenuation is 4.6850000000000005 dB\n"
          ],
          "name": "stdout"
        }
      ]
    },
    {
      "cell_type": "code",
      "metadata": {
        "colab": {
          "base_uri": "https://localhost:8080/"
        },
        "id": "Wz8N-_MuSFJL",
        "outputId": "fcc21057-e308-4092-fbd4-2996fe450522"
      },
      "source": [
        "Prx = Ptx_db-alpha_t\r\n",
        "Prx"
      ],
      "execution_count": 7,
      "outputs": [
        {
          "output_type": "execute_result",
          "data": {
            "text/plain": [
              "2.304700043360188"
            ]
          },
          "metadata": {
            "tags": []
          },
          "execution_count": 7
        }
      ]
    },
    {
      "cell_type": "code",
      "metadata": {
        "colab": {
          "base_uri": "https://localhost:8080/"
        },
        "id": "vUk1AFXNSF_H",
        "outputId": "cc7dc23f-29f1-48dc-99bc-cf3e6cc2d2e1"
      },
      "source": [
        "if Prx > Sensitivity:\r\n",
        "    print(\"LPB, fulfilled\")\r\n",
        "else:\r\n",
        "    print(\"Try Again!\")"
      ],
      "execution_count": 8,
      "outputs": [
        {
          "output_type": "stream",
          "text": [
            "LPB, fulfilled\n"
          ],
          "name": "stdout"
        }
      ]
    },
    {
      "cell_type": "markdown",
      "metadata": {
        "id": "Cvc21x2-SI2P"
      },
      "source": [
        "# Rise Time Budget"
      ]
    },
    {
      "cell_type": "code",
      "metadata": {
        "id": "jmVlsvlvSHiW"
      },
      "source": [
        "t_mat = disp_M*L*spektral\r\n",
        "t_wg = 0 #ignored\r\n",
        "t_mod = 0 #SM"
      ],
      "execution_count": 9,
      "outputs": []
    },
    {
      "cell_type": "code",
      "metadata": {
        "colab": {
          "base_uri": "https://localhost:8080/"
        },
        "id": "xTm1CAnlSOJv",
        "outputId": "a2bc4472-51ca-46eb-8cdc-bb6484d2d9ef"
      },
      "source": [
        "t_sys = sqrt(t_tx**2+\r\n",
        "            t_mat**2+\r\n",
        "            t_mod**2+\r\n",
        "            t_wg**2+\r\n",
        "            t_rx)\r\n",
        "t_sys"
      ],
      "execution_count": 10,
      "outputs": [
        {
          "output_type": "execute_result",
          "data": {
            "text/plain": [
              "5.91607978335181e-06"
            ]
          },
          "metadata": {
            "tags": []
          },
          "execution_count": 10
        }
      ]
    },
    {
      "cell_type": "code",
      "metadata": {
        "colab": {
          "base_uri": "https://localhost:8080/"
        },
        "id": "XxGLkGpdSPi8",
        "outputId": "def3ea4f-3d07-4b91-be86-2f9718102409"
      },
      "source": [
        "t_tx"
      ],
      "execution_count": 11,
      "outputs": [
        {
          "output_type": "execute_result",
          "data": {
            "text/plain": [
              "5e-11"
            ]
          },
          "metadata": {
            "tags": []
          },
          "execution_count": 11
        }
      ]
    },
    {
      "cell_type": "code",
      "metadata": {
        "colab": {
          "base_uri": "https://localhost:8080/"
        },
        "id": "AWizYM_MSRC-",
        "outputId": "1d4cc808-cd72-4cbd-f2eb-d2643a3d878d"
      },
      "source": [
        "if (Tb*Mod_NRZ > t_sys) & (Tb*Mod_RZ > t_sys):\r\n",
        "  print(\"RTB, fulfilled\")\r\n",
        "elif Tb*Mod_NRZ > t_sys:\r\n",
        "  print(\"RTB for NRZ, fulfilled\")\r\n",
        "elif Tb*Mod_RZ > t_sys:\r\n",
        "  print(\"RTB for RZ, fulfilled\")\r\n",
        "else:\r\n",
        "  print(\"Try Again!\")"
      ],
      "execution_count": 12,
      "outputs": [
        {
          "output_type": "stream",
          "text": [
            "Try Again!\n"
          ],
          "name": "stdout"
        }
      ]
    },
    {
      "cell_type": "code",
      "metadata": {
        "colab": {
          "base_uri": "https://localhost:8080/",
          "height": 312
        },
        "id": "JPTMxrt7SSK7",
        "outputId": "f2cfc1ac-8eb4-4557-e961-b607dc544cf4"
      },
      "source": [
        "plt.plot(L,Prx)\r\n",
        "plt.xlabel(\"L(Km)\")\r\n",
        "plt.ylabel(\"Acceptability(dBm)\")\r\n",
        "plt.title(\"Link Power Budget Curve\")"
      ],
      "execution_count": 13,
      "outputs": [
        {
          "output_type": "execute_result",
          "data": {
            "text/plain": [
              "Text(0.5, 1.0, 'Link Power Budget Curve')"
            ]
          },
          "metadata": {
            "tags": []
          },
          "execution_count": 13
        },
        {
          "output_type": "display_data",
          "data": {
            "image/png": "[encoded data removed]",
            "text/plain": [
              "<Figure size 432x288 with 1 Axes>"
            ]
          },
          "metadata": {
            "tags": [],
            "needs_background": "light"
          }
        }
      ]
    },
    {
      "cell_type": "code",
      "metadata": {
        "colab": {
          "base_uri": "https://localhost:8080/",
          "height": 312
        },
        "id": "tmijN_LrSUEy",
        "outputId": "ca75271f-b642-4bbc-b39f-683aad9b9b84"
      },
      "source": [
        "plt.plot(L,t_sys)\r\n",
        "plt.xlabel(\"L(Km)\")\r\n",
        "plt.ylabel(\"System dispersion(s)\")\r\n",
        "plt.title(\"Rise Time Budget Curve\")"
      ],
      "execution_count": 14,
      "outputs": [
        {
          "output_type": "execute_result",
          "data": {
            "text/plain": [
              "Text(0.5, 1.0, 'Rise Time Budget Curve')"
            ]
          },
          "metadata": {
            "tags": []
          },
          "execution_count": 14
        },
        {
          "output_type": "display_data",
          "data": {
            "image/png": "[encoded data removed]",
            "text/plain": [
              "<Figure size 432x288 with 1 Axes>"
            ]
          },
          "metadata": {
            "tags": [],
            "needs_background": "light"
          }
        }
      ]
    }
  ]
}